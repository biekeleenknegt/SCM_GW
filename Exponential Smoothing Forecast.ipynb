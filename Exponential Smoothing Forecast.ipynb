{
  "cells": [
    {
      "cell_type": "code",
      "execution_count": null,
      "metadata": {
        "id": "yzJJSAbwzMBB"
      },
      "outputs": [],
      "source": [
        "import pandas as pd\n",
        "from statsmodels.tsa.holtwinters import SimpleExpSmoothing\n",
        "\n",
        "# loading the data\n",
        "df = pd.read_excel(\"pad/naar/bestand.xlsx\", sheet_name=\"Real Demand\")\n",
        "\n",
        "# sorting the data by product/size/year\n",
        "df = df.sort_values(by=['product_id', 'size', 'year'])\n",
        "\n",
        "# voer SES uit per groep\n",
        "alpha = 0.2  # smoothing factor (aanpassen naar onze eigen waarde)\n",
        "\n",
        "results_ses = []\n",
        "\n",
        "for (product, size), group in df.groupby(['product_id', 'size']):\n",
        "    data = group['demand'].values  #pas eventueel kolomnaam aan\n",
        "    index = group['year'].values\n",
        "\n",
        "    if len(data) > 1:\n",
        "        model = SimpleExpSmoothing(data)\n",
        "        fit = model.fit(smoothing_level=alpha, optimized=False)\n",
        "        forecast = fit.fittedvalues\n",
        "\n",
        "        for i, year in enumerate(index):\n",
        "            results_ses.append({\n",
        "                'product_id': product,\n",
        "                'size': size,\n",
        "                'year': year,\n",
        "                'actual': data[i],\n",
        "                'forecast': forecast[i]\n",
        "            })\n",
        "\n",
        "df_ses = pd.DataFrame(results_ses)"
      ]
    }
  ],
  "metadata": {
    "kernelspec": {
      "display_name": "base",
      "language": "python",
      "name": "python3"
    },
    "language_info": {
      "codemirror_mode": {
        "name": "ipython",
        "version": 3
      },
      "file_extension": ".py",
      "mimetype": "text/x-python",
      "name": "python",
      "nbconvert_exporter": "python",
      "pygments_lexer": "ipython3",
      "version": "3.11.5"
    },
    "colab": {
      "provenance": []
    }
  },
  "nbformat": 4,
  "nbformat_minor": 0
}