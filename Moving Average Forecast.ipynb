{
 "cells": [
  {
   "cell_type": "code",
   "execution_count": 4,
   "metadata": {},
   "outputs": [
    {
     "name": "stdout",
     "output_type": "stream",
     "text": [
      " Forecasts written to separate files in: /Users/biekeleenknegt/Documents/GitHub/SCM_GW/Forecasts_By_Window\n"
     ]
    }
   ],
   "source": [
    "import pandas as pd\n",
    "import os\n",
    "\n",
    "# Load Excel file\n",
    "file_path = \"/Users/biekeleenknegt/Desktop/Supply Chain Management/SCM_GW/Real Demand.xlsx\"\n",
    "sheet_name = \"Real Demand\"\n",
    "\n",
    "# Load data\n",
    "df = pd.read_excel(file_path, sheet_name=sheet_name)\n",
    "\n",
    "# Rename 'season' to 'year'\n",
    "df = df.rename(columns={'season': 'year'})\n",
    "\n",
    "# Sort by year\n",
    "df = df.sort_values(by='year')\n",
    "\n",
    "# Get unique number of years per (product_id, size)\n",
    "year_counts = df.groupby(['product_id', 'size'])['year'].nunique().reset_index()\n",
    "year_counts = year_counts.rename(columns={'year': 'max_years'})\n",
    "\n",
    "# Merge with original data\n",
    "df = df.merge(year_counts, on=['product_id', 'size'], how='left')\n",
    "\n",
    "# Create output folder if needed\n",
    "output_folder = \"/Users/biekeleenknegt/Documents/GitHub/SCM_GW/Forecasts_By_Window\"\n",
    "os.makedirs(output_folder, exist_ok=True)\n",
    "\n",
    "# Track all unique window sizes\n",
    "all_window_dfs = dict()\n",
    "\n",
    "# Loop over each product-size group\n",
    "for _, row in year_counts.iterrows():\n",
    "    product = row['product_id']\n",
    "    size = row['size']\n",
    "    max_years = row['max_years']\n",
    "    \n",
    "    sub_df = df[(df['product_id'] == product) & (df['size'] == size)].copy()\n",
    "    sub_df = sub_df.sort_values(by='year')\n",
    "    \n",
    "    for window in range(1, max_years + 1):\n",
    "        sub_df[f'ma_{window}'] = sub_df['real demand'].rolling(window=window, min_periods=1).mean()\n",
    "        forecast_row = sub_df.tail(1).copy()\n",
    "        forecast_row['window'] = window\n",
    "        forecast_row['forecast'] = forecast_row[f'ma_{window}']\n",
    "        \n",
    "        # Add to the right window's list\n",
    "        if window not in all_window_dfs:\n",
    "            all_window_dfs[window] = []\n",
    "        all_window_dfs[window].append(forecast_row[['product_id', 'size', 'year', 'forecast']])\n",
    "\n",
    "# Write one Excel file per window size\n",
    "for window, dfs in all_window_dfs.items():\n",
    "    result_df = pd.concat(dfs, ignore_index=True)\n",
    "    output_path = os.path.join(output_folder, f\"Forecast_Window_{window}.xlsx\")\n",
    "    result_df.to_excel(output_path, index=False)\n",
    "\n",
    "print(f\" Forecasts written to separate files in: {output_folder}\")"
   ]
  }
 ],
 "metadata": {
  "kernelspec": {
   "display_name": "base",
   "language": "python",
   "name": "python3"
  },
  "language_info": {
   "codemirror_mode": {
    "name": "ipython",
    "version": 3
   },
   "file_extension": ".py",
   "mimetype": "text/x-python",
   "name": "python",
   "nbconvert_exporter": "python",
   "pygments_lexer": "ipython3",
   "version": "3.11.5"
  }
 },
 "nbformat": 4,
 "nbformat_minor": 2
}
