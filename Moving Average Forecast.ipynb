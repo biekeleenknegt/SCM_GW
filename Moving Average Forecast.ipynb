{
 "cells": [
  {
   "cell_type": "code",
   "execution_count": 7,
   "metadata": {},
   "outputs": [
    {
     "name": "stdout",
     "output_type": "stream",
     "text": [
      "Forecasts per product-size-channel written to: /Users/biekeleenknegt/Documents/GitHub/SCM_GW/Forecasts_By_Window\n"
     ]
    }
   ],
   "source": [
    "import pandas as pd\n",
    "import os\n",
    "\n",
    "# Load Excel file\n",
    "file_path = \"/Users/biekeleenknegt/Desktop/Supply Chain Management/SCM_GW/Real Demand.xlsx\"\n",
    "sheet_name = \"Real Demand\"\n",
    "\n",
    "# Load data\n",
    "df = pd.read_excel(file_path, sheet_name=sheet_name)\n",
    "\n",
    "# Rename 'season' to 'year'\n",
    "df = df.rename(columns={'season': 'year'})\n",
    "\n",
    "# Sort by year\n",
    "df = df.sort_values(by='year')\n",
    "\n",
    "# Determine how many years are available per product-size-country\n",
    "year_counts = df.groupby(['product_id', 'size', 'channel_id'])['year'].nunique().reset_index()\n",
    "year_counts = year_counts.rename(columns={'year': 'max_years'})\n",
    "\n",
    "# Merge with full dataset so each row knows how many years are available\n",
    "df = df.merge(year_counts, on=['product_id', 'size', 'channel_id'], how='left')\n",
    "\n",
    "# Create output folder\n",
    "output_folder = \"/Users/biekeleenknegt/Documents/GitHub/SCM_GW/Forecasts_By_Window\"\n",
    "os.makedirs(output_folder, exist_ok=True)\n",
    "\n",
    "# Dictionary to collect forecasts per window\n",
    "all_window_dfs = dict()\n",
    "\n",
    "# Loop over all product-size-channel combinations\n",
    "for _, row in year_counts.iterrows():\n",
    "    product = row['product_id']\n",
    "    size = row['size']\n",
    "    channel = row['channel_id']\n",
    "    max_years = row['max_years']\n",
    "    \n",
    "    sub_df = df[(df['product_id'] == product) &\n",
    "                (df['size'] == size) &\n",
    "                (df['channel_id'] == channel)].copy()\n",
    "    \n",
    "    sub_df = sub_df.sort_values(by='year')\n",
    "    \n",
    "    for window in range(1, max_years + 1):\n",
    "        sub_df[f'ma_{window}'] = sub_df['real demand'].rolling(window=window, min_periods=1).mean()\n",
    "        forecast_row = sub_df.tail(1).copy()\n",
    "        forecast_row['window'] = window\n",
    "        forecast_row['forecast'] = forecast_row[f'ma_{window}']\n",
    "        \n",
    "        # Add relevant columns\n",
    "        forecast_row = forecast_row[['product_id', 'size', 'channel_id', 'year', 'forecast']]\n",
    "        \n",
    "        if window not in all_window_dfs:\n",
    "            all_window_dfs[window] = []\n",
    "        all_window_dfs[window].append(forecast_row)\n",
    "\n",
    "# Write each window's forecasts to a separate Excel file\n",
    "for window, dfs in all_window_dfs.items():\n",
    "    result_df = pd.concat(dfs, ignore_index=True)\n",
    "    output_path = os.path.join(output_folder, f\"Forecast_Window_{window}.xlsx\")\n",
    "    result_df.to_excel(output_path, index=False)\n",
    "\n",
    "print(f\"Forecasts per product-size-channel written to: {output_folder}\")"
   ]
  }
 ],
 "metadata": {
  "kernelspec": {
   "display_name": "base",
   "language": "python",
   "name": "python3"
  },
  "language_info": {
   "codemirror_mode": {
    "name": "ipython",
    "version": 3
   },
   "file_extension": ".py",
   "mimetype": "text/x-python",
   "name": "python",
   "nbconvert_exporter": "python",
   "pygments_lexer": "ipython3",
   "version": "3.11.5"
  }
 },
 "nbformat": 4,
 "nbformat_minor": 2
}
