{
  "cells": [
    {
      "cell_type": "code",
      "execution_count": null,
      "metadata": {
        "id": "rNsuzhAnymV5"
      },
      "outputs": [],
      "source": [
        "from statsmodels.tsa.holtwinters import Holt\n",
        "\n",
        "# Parameters voor trend\n",
        "alpha = 0.3  # = level\n",
        "beta = 0.1   # = trend\n",
        "\n",
        "results_holt = []\n",
        "\n",
        "for (product, size), group in df.groupby(['product_id', 'size']):\n",
        "    data = group['demand'].values\n",
        "    index = group['year'].values\n",
        "\n",
        "    if len(data) > 2:  # Holt werkt pas goed vanaf 3 punten\n",
        "        model = Holt(data)\n",
        "        fit = model.fit(smoothing_level=alpha, smoothing_trend=beta, optimized=False)\n",
        "        forecast = fit.fittedvalues\n",
        "\n",
        "        for i, year in enumerate(index):\n",
        "            results_holt.append({\n",
        "                'product_id': product,\n",
        "                'size': size,\n",
        "                'year': year,\n",
        "                'actual': data[i],\n",
        "                'forecast': forecast[i]\n",
        "            })\n",
        "\n",
        "df_holt = pd.DataFrame(results_holt)\n"
      ]
    }
  ],
  "metadata": {
    "language_info": {
      "name": "python"
    },
    "colab": {
      "provenance": []
    }
  },
  "nbformat": 4,
  "nbformat_minor": 0
}